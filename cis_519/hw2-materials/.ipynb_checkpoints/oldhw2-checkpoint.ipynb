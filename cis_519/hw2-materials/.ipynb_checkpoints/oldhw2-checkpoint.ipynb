{
 "cells": [
  {
   "cell_type": "code",
   "execution_count": 13,
   "metadata": {},
   "outputs": [],
   "source": [
    "import json\n",
    "import matplotlib.pylab as plt\n",
    "import os\n",
    "from sklearn.feature_extraction import DictVectorizer\n",
    "from sklearn.metrics import accuracy_score"
   ]
  },
  {
   "cell_type": "code",
   "execution_count": 14,
   "metadata": {},
   "outputs": [],
   "source": [
    "def calculate_f1(y_gold, y_model):\n",
    "    \"\"\"\n",
    "    Computes the F1 of the model predictions using the\n",
    "    gold labels. Each of y_gold and y_model are lists with\n",
    "    labels 1 or -1. The function should return the F1\n",
    "    score as a number between 0 and 1.\n",
    "    \"\"\"\n",
    "    return 0.0"
   ]
  },
  {
   "cell_type": "code",
   "execution_count": 15,
   "metadata": {},
   "outputs": [],
   "source": [
    "class Classifier(object):\n",
    "    \"\"\"\n",
    "    The Classifier class is the base class for all of the Perceptron-based\n",
    "    algorithms. Your class should override the \"process_example\" and\n",
    "    \"predict_single\" functions. Further, the averaged models should\n",
    "    override the \"finalize\" method, where the final parameter values\n",
    "    should be calculated. You should not need to edit this class any further.\n",
    "    \"\"\"\n",
    "    def train(self, X, y):\n",
    "        iterations = 10\n",
    "        for iteration in range(iterations):\n",
    "            for x_i, y_i in zip(X, y):\n",
    "                self.process_example(x_i, y_i)\n",
    "        self.finalize()\n",
    "\n",
    "    def process_example(self, x, y):\n",
    "        \"\"\"\n",
    "        Makes a predicting using the current parameter values for\n",
    "        the features x and potentially updates the parameters based\n",
    "        on the gradient. \"x\" is a dictionary which maps from the feature\n",
    "        name to the feature value and y is either 1 or -1.\n",
    "        \"\"\"\n",
    "        raise NotImplementedError\n",
    "\n",
    "    def finalize(self):\n",
    "        \"\"\"Calculates the final parameter values for the averaged models.\"\"\"\n",
    "        pass\n",
    "\n",
    "    def predict(self, X):\n",
    "        \"\"\"\n",
    "        Predicts labels for all of the input examples. You should not need\n",
    "        to override this method.\n",
    "        \"\"\"\n",
    "        y = []\n",
    "        for x in X:\n",
    "            y.append(self.predict_single(x))\n",
    "        return y\n",
    "\n",
    "    def predict_single(self, x):\n",
    "        \"\"\"\n",
    "        Predicts a label, 1 or -1, for the input example. \"x\" is a dictionary\n",
    "        which maps from the feature name to the feature value.\n",
    "        \"\"\"\n",
    "        raise NotImplementedError"
   ]
  },
  {
   "cell_type": "code",
   "execution_count": 16,
   "metadata": {},
   "outputs": [],
   "source": [
    "class Perceptron(Classifier):\n",
    "    def __init__(self, features):\n",
    "        \"\"\"\n",
    "        Initializes the parameters for the Perceptron model. \"features\"\n",
    "        is a list of all of the features of the model where each is\n",
    "        represented by a string.\n",
    "        \"\"\"\n",
    "        # Do not change the names of these 3 data members because\n",
    "        # they are used in the unit tests\n",
    "        self.eta = 1\n",
    "        self.w = {feature: 0.0 for feature in features}\n",
    "        self.theta = 0\n",
    "\n",
    "    def process_example(self, x, y):\n",
    "        y_pred = self.predict_single(x)\n",
    "        if y != y_pred:\n",
    "            for feature, value in x.items():\n",
    "                self.w[feature] += self.eta * y * value\n",
    "            self.theta += self.eta * y\n",
    "\n",
    "    def predict_single(self, x):\n",
    "        score = 0\n",
    "        for feature, value in x.items():\n",
    "            score += self.w[feature] * value\n",
    "        score += self.theta\n",
    "        if score <= 0:\n",
    "            return -1\n",
    "        return 1"
   ]
  },
  {
   "cell_type": "markdown",
   "metadata": {},
   "source": [
    "For the rest of the Perceptron-based algorithms, you will have to implement the corresponding class like we have done for \"Perceptron\".\n",
    "Use the \"Perceptron\" class as a guide for how to implement the functions."
   ]
  },
  {
   "cell_type": "code",
   "execution_count": 17,
   "metadata": {},
   "outputs": [],
   "source": [
    "class AveragedPerceptron(Classifier):\n",
    "    def __init__(self, features):\n",
    "        self.eta = 1\n",
    "        self.w = {feature: 0.0 for feature in features}\n",
    "        self.theta = 0\n",
    "        # You will need to add data members here\n",
    "        \n",
    "    def process_example(self, x, y):\n",
    "        raise NotImplementedError\n",
    "\n",
    "    def predict_single(self, x):\n",
    "        raise NotImplementedError\n",
    "        \n",
    "    def finalize(self):\n",
    "        raise NotImplementedError"
   ]
  },
  {
   "cell_type": "code",
   "execution_count": 18,
   "metadata": {},
   "outputs": [],
   "source": [
    "class Winnow(Classifier):\n",
    "    def __init__(self, alpha, features):\n",
    "        # Do not change the names of these 3 data members because\n",
    "        # they are used in the unit tests\n",
    "        self.alpha = alpha\n",
    "        self.w = {feature: 1.0 for feature in features}\n",
    "        self.theta = -len(features)\n",
    "        \n",
    "    def process_example(self, x, y):\n",
    "        raise NotImplementedError\n",
    "\n",
    "    def predict_single(self, x):\n",
    "        raise NotImplementedError"
   ]
  },
  {
   "cell_type": "code",
   "execution_count": 19,
   "metadata": {},
   "outputs": [],
   "source": [
    "class AveragedWinnow(Classifier):\n",
    "    def __init__(self, alpha, features):\n",
    "        self.alpha = alpha\n",
    "        self.w = {feature: 1.0 for feature in features}\n",
    "        self.theta = -len(features)\n",
    "        # You will need to add data members here\n",
    "        \n",
    "    def process_example(self, x, y):\n",
    "        raise NotImplementedError\n",
    "\n",
    "    def predict_single(self, x):\n",
    "        raise NotImplementedError\n",
    "        \n",
    "    def finalize(self):\n",
    "        raise NotImplementedError"
   ]
  },
  {
   "cell_type": "code",
   "execution_count": 20,
   "metadata": {},
   "outputs": [],
   "source": [
    "class AdaGrad(Classifier):\n",
    "    def __init__(self, eta, features):\n",
    "        # Do not change the names of these 3 data members because\n",
    "        # they are used in the unit tests\n",
    "        self.eta = eta\n",
    "        self.w = {feature: 0.0 for feature in features}\n",
    "        self.theta = 0\n",
    "        self.G = {feature: 1e-5 for feature in features}  # 1e-5 prevents divide by 0 problems\n",
    "        self.H = 0\n",
    "        \n",
    "    def process_example(self, x, y):\n",
    "        raise NotImplementedError\n",
    "\n",
    "    def predict_single(self, x):\n",
    "        raise NotImplementedError"
   ]
  },
  {
   "cell_type": "code",
   "execution_count": 21,
   "metadata": {},
   "outputs": [],
   "source": [
    "class AveragedAdaGrad(Classifier):\n",
    "    def __init__(self, eta, features):\n",
    "        self.eta = eta\n",
    "        self.w = {feature: 0.0 for feature in features}\n",
    "        self.theta = 0\n",
    "        self.G = {feature: 1e-5 for feature in features}\n",
    "        self.H = 0\n",
    "        # You will need to add data members here\n",
    "        \n",
    "    def process_example(self, x, y):\n",
    "        raise NotImplementedError\n",
    "\n",
    "    def predict_single(self, x):\n",
    "        raise NotImplementedError\n",
    "        \n",
    "    def finalize(self):\n",
    "        raise NotImplementedError"
   ]
  },
  {
   "cell_type": "code",
   "execution_count": 22,
   "metadata": {},
   "outputs": [],
   "source": [
    "def plot_learning_curves(perceptron_accs,\n",
    "                         winnow_accs,\n",
    "                         adagrad_accs,\n",
    "                         avg_perceptron_accs,\n",
    "                         avg_winnow_accs,\n",
    "                         avg_adagrad_accs,\n",
    "                         svm_accs):\n",
    "    \"\"\"\n",
    "    This function will plot the learning curve for the 7 different models.\n",
    "    Pass the accuracies as lists of length 11 where each item corresponds\n",
    "    to a point on the learning curve.\n",
    "    \"\"\"\n",
    "    assert len(perceptron_accs) == 11\n",
    "    assert len(winnow_accs) == 11\n",
    "    assert len(adagrad_accs) == 11\n",
    "    assert len(avg_perceptron_accs) == 11\n",
    "    assert len(avg_winnow_accs) == 11\n",
    "    assert len(avg_adagrad_accs) == 11\n",
    "    assert len(svm_accs) == 11\n",
    "\n",
    "    x = [500, 1000, 1500, 2000, 2500, 3000, 3500, 4000, 4500, 5000, 50000]\n",
    "    plt.figure()\n",
    "    f, (ax, ax2) = plt.subplots(1, 2, sharey=True, facecolor='w')\n",
    "    ax.plot(x, perceptron_accs, label='perceptron')\n",
    "    ax2.plot(x, perceptron_accs, label='perceptron')\n",
    "    ax.plot(x, winnow_accs, label='winnow')\n",
    "    ax2.plot(x, winnow_accs, label='winnow')\n",
    "    ax.plot(x, adagrad_accs, label='adagrad')\n",
    "    ax2.plot(x, adagrad_accs, label='adagrad')\n",
    "    ax.plot(x, avg_perceptron_accs, label='avg-perceptron')\n",
    "    ax2.plot(x, avg_perceptron_accs, label='avg-perceptron')\n",
    "    ax.plot(x, avg_winnow_accs, label='avg-winnow')\n",
    "    ax2.plot(x, avg_winnow_accs, label='avg-winnow')\n",
    "    ax.plot(x, avg_adagrad_accs, label='avg-adagrad')\n",
    "    ax2.plot(x, avg_adagrad_accs, label='avg-adagrad')\n",
    "    ax.plot(x, svm_accs, label='svm')\n",
    "    ax2.plot(x, svm_accs, label='svm')\n",
    "    ax.set_xlim(0, 5500)\n",
    "    ax2.set_xlim(49500, 50000)\n",
    "    ax2.set_xticks([50000])\n",
    "    # hide the spines between ax and ax2\n",
    "    ax.spines['right'].set_visible(False)\n",
    "    ax2.spines['left'].set_visible(False)\n",
    "    ax.yaxis.tick_left()\n",
    "    ax.tick_params(labelright='off')\n",
    "    ax2.yaxis.tick_right()\n",
    "    ax2.legend()"
   ]
  },
  {
   "cell_type": "code",
   "execution_count": 23,
   "metadata": {},
   "outputs": [],
   "source": [
    "def load_synthetic_data(directory_path):\n",
    "    \"\"\"\n",
    "    Loads a synthetic dataset from the dataset root (e.g. \"synthetic/sparse\").\n",
    "    You should not need to edit this method.\n",
    "    \"\"\"\n",
    "    def load_jsonl(file_path):\n",
    "        data = []\n",
    "        with open(file_path, 'r') as f:\n",
    "            for line in f:\n",
    "                data.append(json.loads(line))\n",
    "        return data\n",
    "\n",
    "    def load_txt(file_path):\n",
    "        data = []\n",
    "        with open(file_path, 'r') as f:\n",
    "            for line in f:\n",
    "                data.append(int(line.strip()))\n",
    "        return data\n",
    "\n",
    "    def convert_to_sparse(X):\n",
    "        sparse = []\n",
    "        for x in X:\n",
    "            data = {}\n",
    "            for i, value in enumerate(x):\n",
    "                if value != 0:\n",
    "                    data[str(i)] = value\n",
    "            sparse.append(data)\n",
    "        return sparse\n",
    "\n",
    "    X_train = load_jsonl(directory_path + '/train.X')\n",
    "    X_dev = load_jsonl(directory_path + '/dev.X')\n",
    "    X_test = load_jsonl(directory_path + '/test.X')\n",
    "\n",
    "    num_features = len(X_train[0])\n",
    "    features = [str(i) for i in range(num_features)]\n",
    "\n",
    "    X_train = convert_to_sparse(X_train)\n",
    "    X_dev = convert_to_sparse(X_dev)\n",
    "    X_test = convert_to_sparse(X_test)\n",
    "\n",
    "    y_train = load_txt(directory_path + '/train.y')\n",
    "    y_dev = load_txt(directory_path + '/dev.y')\n",
    "    y_test = load_txt(directory_path +  '/test.y')\n",
    "\n",
    "    return X_train, y_train, X_dev, y_dev, X_test, y_test, features"
   ]
  },
  {
   "cell_type": "code",
   "execution_count": 24,
   "metadata": {},
   "outputs": [],
   "source": [
    "def run_synthetic_experiment(data_path):\n",
    "    \"\"\"\n",
    "    Runs the synthetic experiment on either the sparse or dense data\n",
    "    depending on the data path (e.g. \"data/sparse\" or \"data/dense\").\n",
    "    \n",
    "    We have provided how to train the Perceptron on the training and\n",
    "    test on the testing data (the last part of the experiment). You need\n",
    "    to implement the hyperparameter sweep, the learning curves, and\n",
    "    predicting on the test dataset for the other models.\n",
    "    \"\"\"\n",
    "    X_train, y_train, X_dev, y_dev, X_test, y_test, features \\\n",
    "        = load_synthetic_data(data_path)\n",
    "    \n",
    "    # TODO: Hyperparameter sweeps\n",
    "    \n",
    "    # TODO: Placeholder data for the learning curves. You should write\n",
    "    # the logic to downsample the dataset to the number of desired training\n",
    "    # instances (e.g. 500, 1000), then train all of the models on the\n",
    "    # sampled dataset. Compute the accuracy and add the accuraices to\n",
    "    # the corresponding list.\n",
    "    perceptron_accs = [0.1] * 11\n",
    "    winnow_accs = [0.2] * 11\n",
    "    adagrad_accs = [0.3] * 11\n",
    "    avg_perceptron_accs = [0.4] * 11\n",
    "    avg_winnow_accs = [0.5] * 11\n",
    "    avg_adagrad_accs = [0.6] * 11\n",
    "    svm_accs = [0.7] * 11\n",
    "    plot_learning_curves(perceptron_accs, winnow_accs, adagrad_accs, avg_perceptron_accs, avg_winnow_accs, avg_adagrad_accs, svm_accs)\n",
    "    \n",
    "    # TODO: Train all 7 models on the training data and test on the test data\n",
    "    classifier = Perceptron(features)\n",
    "    classifier.train(X_train, y_train)\n",
    "    y_pred = classifier.predict(X_test)\n",
    "    acc = accuracy_score(y_test, y_pred)\n",
    "    print('Perceptron', acc)"
   ]
  },
  {
   "cell_type": "code",
   "execution_count": 25,
   "metadata": {},
   "outputs": [],
   "source": [
    "def load_ner_data(path):\n",
    "    \"\"\"\n",
    "    Loads the NER data from a path (e.g. \"ner/conll/train\"). You should\n",
    "    not need to edit this method.\n",
    "    \"\"\"\n",
    "    # List of tuples for each sentence\n",
    "    data = []\n",
    "    for filename in os.listdir(path):\n",
    "        with open(path + '/' + filename, 'r') as file:\n",
    "            sentence = []\n",
    "            for line in file:\n",
    "                if line == '\\n':\n",
    "                    data.append(sentence)\n",
    "                    sentence = []\n",
    "                else:\n",
    "                    sentence.append(tuple(line.split()))\n",
    "    return data"
   ]
  },
  {
   "cell_type": "code",
   "execution_count": 26,
   "metadata": {},
   "outputs": [],
   "source": [
    "def extract_ner_features_train(train):\n",
    "    \"\"\"\n",
    "    Extracts feature dictionaries and labels from the data in \"train\"\n",
    "    Additionally creates a list of all of the features which were created.\n",
    "    We have implemented the w-1 and w+1 features for you to show you how\n",
    "    to create them.\n",
    "    \n",
    "    TODO: You should add your additional featurization code here.\n",
    "    \"\"\"\n",
    "    y = []\n",
    "    X = []\n",
    "    features = set()\n",
    "    for sentence in train:\n",
    "        padded = sentence[:]\n",
    "        padded.insert(0, ('SSS', None))\n",
    "        padded.append(('EEE', None))\n",
    "        for i in range(1, len(padded) - 1):\n",
    "            y.append(1 if padded[i][1] == 'I' else -1)\n",
    "            feat1 = 'w-1=' + str(padded[i - 1][0])\n",
    "            feat2 = 'w+1=' + str(padded[i + 1][0])\n",
    "            feats = [feat1, feat2]\n",
    "            features.update(feats)\n",
    "            feats = {feature: 1 for feature in feats}\n",
    "            X.append(feats)\n",
    "    return features, X, y"
   ]
  },
  {
   "cell_type": "code",
   "execution_count": 27,
   "metadata": {},
   "outputs": [],
   "source": [
    "def extract_features_dev_or_test(data, features):\n",
    "    \"\"\"\n",
    "    Extracts feature dictionaries and labels from \"data\". The only\n",
    "    features which should be computed are those in \"features\". You\n",
    "    should add your additional featurization code here.\n",
    "    \n",
    "    TODO: You should add your additional featurization code here.\n",
    "    \"\"\"\n",
    "    y = []\n",
    "    X = []\n",
    "    for sentence in data:\n",
    "        padded = sentence[:]\n",
    "        padded.insert(0, ('SSS', None))\n",
    "        padded.append(('EEE', None))\n",
    "        for i in range(1, len(padded) - 1):\n",
    "            y.append(1 if padded[i][1] == 'I' else -1)\n",
    "            feat1 = 'w-1=' + str(padded[i - 1][0])\n",
    "            feat2 = 'w+1=' + str(padded[i + 1][0])\n",
    "            feats = [feat1, feat2]\n",
    "            feats = {feature: 1 for feature in feats if feature in features}\n",
    "            X.append(feats)\n",
    "    return X, y"
   ]
  },
  {
   "cell_type": "code",
   "execution_count": 28,
   "metadata": {},
   "outputs": [],
   "source": [
    "def run_ner_experiment(data_path):\n",
    "    \"\"\"\n",
    "    Runs the NER experiment using the path to the ner data\n",
    "    (e.g. \"ner\" from the released resources). We have implemented\n",
    "    the standard Perceptron below. You should do the same for\n",
    "    the averaged version and the SVM.\n",
    "    \n",
    "    The SVM requires transforming the features into a different\n",
    "    format. See the end of this function for how to do that.\n",
    "    \"\"\"\n",
    "    train = load_ner_data(data_path + '/conll/train')\n",
    "    conll_test = load_ner_data(data_path + '/conll/test')\n",
    "    enron_test = load_ner_data(data_path + '/enron/test')\n",
    "\n",
    "    features, X_train, y_train = extract_ner_features_train(train)\n",
    "    X_conll_test, y_conll_test = extract_features_dev_or_test(conll_test, features)\n",
    "    X_enron_test, y_enron_test = extract_features_dev_or_test(enron_test, features)\n",
    "                 \n",
    "    # You should do this for the Averaged Perceptron and SVM\n",
    "    classifier = Perceptron(features)\n",
    "    classifier.train(X_train, y_train)\n",
    "    y_pred = classifier.predict(X_conll_test)\n",
    "    conll_f1 = calculate_f1(y_conll_test, y_pred)\n",
    "    y_pred = classifier.predict(X_enron_test)\n",
    "    enron_f1 = calculate_f1(y_enron_test, y_pred)\n",
    "    print('Averaged Perceptron')\n",
    "    print('  CoNLL', conll_f1)\n",
    "    print('  Enron', enron_f1)\n",
    "    \n",
    "    # This is how you convert from the way we represent features in the\n",
    "    # Perceptron code to how you need to represent features for the SVM.\n",
    "    # You can then train with (X_train_dict, y_train) and test with\n",
    "    # (X_conll_test_dict, y_conll_test) and (X_enron_test_dict, y_enron_test)\n",
    "    vectorizer = DictVectorizer()\n",
    "    X_train_dict = vectorizer.fit_transform(X_train)\n",
    "    X_conll_test_dict = vectorizer.transform(X_conll_test)\n",
    "    X_enron_test_dict = vectorizer.transform(X_enron_test)"
   ]
  },
  {
   "cell_type": "code",
   "execution_count": 29,
   "metadata": {},
   "outputs": [
    {
     "name": "stderr",
     "output_type": "stream",
     "text": [
      "/Users/dan/miniconda3/lib/python3.6/site-packages/matplotlib/cbook/deprecation.py:107: MatplotlibDeprecationWarning: Passing one of 'on', 'true', 'off', 'false' as a boolean is deprecated; use an actual boolean (True/False) instead.\n",
      "  warnings.warn(message, mplDeprecation, stacklevel=1)\n"
     ]
    },
    {
     "name": "stdout",
     "output_type": "stream",
     "text": [
      "Perceptron 0.8277\n"
     ]
    },
    {
     "data": {
      "text/plain": [
       "<Figure size 432x288 with 0 Axes>"
      ]
     },
     "metadata": {},
     "output_type": "display_data"
    },
    {
     "data": {
      "image/png": "[encoded data removed]",
      "text/plain": [
       "<Figure size 432x288 with 2 Axes>"
      ]
     },
     "metadata": {},
     "output_type": "display_data"
    }
   ],
   "source": [
    "# Run the synthetic experiment on the sparse dataset. \"synthetic/sparse\"\n",
    "# is the path to where the data is located.\n",
    "run_synthetic_experiment('synthetic/sparse')"
   ]
  },
  {
   "cell_type": "code",
   "execution_count": 30,
   "metadata": {},
   "outputs": [
    {
     "name": "stdout",
     "output_type": "stream",
     "text": [
      "Perceptron 0.9193\n"
     ]
    },
    {
     "data": {
      "text/plain": [
       "<Figure size 432x288 with 0 Axes>"
      ]
     },
     "metadata": {},
     "output_type": "display_data"
    },
    {
     "data": {
      "image/png": "[encoded data removed]",
      "text/plain": [
       "<Figure size 432x288 with 2 Axes>"
      ]
     },
     "metadata": {},
     "output_type": "display_data"
    }
   ],
   "source": [
    "# Run the synthetic experiment on the sparse dataset. \"synthetic/dense\"\n",
    "# is the path to where the data is located.\n",
    "run_synthetic_experiment('synthetic/dense')"
   ]
  },
  {
   "cell_type": "code",
   "execution_count": 31,
   "metadata": {},
   "outputs": [
    {
     "name": "stdout",
     "output_type": "stream",
     "text": [
      "Averaged Perceptron\n",
      "  CoNLL 0.0\n",
      "  Enron 0.0\n"
     ]
    }
   ],
   "source": [
    "# Run the NER experiment. \"ner\" is the path to where the data is located.\n",
    "run_ner_experiment('ner')"
   ]
  },
  {
   "cell_type": "code",
   "execution_count": null,
   "metadata": {},
   "outputs": [],
   "source": []
  }
 ],
 "metadata": {
  "kernelspec": {
   "display_name": "Python 3",
   "language": "python",
   "name": "python3"
  },
  "language_info": {
   "codemirror_mode": {
    "name": "ipython",
    "version": 3
   },
   "file_extension": ".py",
   "mimetype": "text/x-python",
   "name": "python",
   "nbconvert_exporter": "python",
   "pygments_lexer": "ipython3",
   "version": "3.6.9"
  }
 },
 "nbformat": 4,
 "nbformat_minor": 2
}
