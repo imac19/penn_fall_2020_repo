{
 "cells": [
  {
   "cell_type": "markdown",
   "metadata": {},
   "source": [
    "## Problem 5: Simple Linear Regression"
   ]
  },
  {
   "cell_type": "markdown",
   "metadata": {},
   "source": [
    "In this question, you will implement simple linear regression from scratch. The dataset you will work with is called the Boston data set. You can find more information about the data set here: https://www.cs.toronto.edu/~delve/data/boston/bostonDetail.html \n",
    "\n",
    "You will use the pandas library to load the csv file into a dataframe: \n",
    "\n"
   ]
  },
  {
   "cell_type": "code",
   "execution_count": 1,
   "metadata": {},
   "outputs": [],
   "source": [
    "import numpy as np\n",
    "import pandas as pd\n",
    "import matplotlib.pyplot as plt\n",
    "%matplotlib inline"
   ]
  },
  {
   "cell_type": "code",
   "execution_count": 2,
   "metadata": {},
   "outputs": [],
   "source": [
    "# read the csv file and load into a pandas dataframe \n",
    "# make sure Boston.csv is in the same file path as this notebook\n",
    "boston = pd.read_csv('Boston.csv')"
   ]
  },
  {
   "cell_type": "code",
   "execution_count": 3,
   "metadata": {},
   "outputs": [
    {
     "data": {
      "text/html": [
       "<div>\n",
       "<style scoped>\n",
       "    .dataframe tbody tr th:only-of-type {\n",
       "        vertical-align: middle;\n",
       "    }\n",
       "\n",
       "    .dataframe tbody tr th {\n",
       "        vertical-align: top;\n",
       "    }\n",
       "\n",
       "    .dataframe thead th {\n",
       "        text-align: right;\n",
       "    }\n",
       "</style>\n",
       "<table border=\"1\" class=\"dataframe\">\n",
       "  <thead>\n",
       "    <tr style=\"text-align: right;\">\n",
       "      <th></th>\n",
       "      <th>crim</th>\n",
       "      <th>zn</th>\n",
       "      <th>indus</th>\n",
       "      <th>chas</th>\n",
       "      <th>nox</th>\n",
       "      <th>rm</th>\n",
       "      <th>age</th>\n",
       "      <th>dis</th>\n",
       "      <th>rad</th>\n",
       "      <th>tax</th>\n",
       "      <th>ptratio</th>\n",
       "      <th>black</th>\n",
       "      <th>lstat</th>\n",
       "      <th>medv</th>\n",
       "    </tr>\n",
       "  </thead>\n",
       "  <tbody>\n",
       "    <tr>\n",
       "      <th>0</th>\n",
       "      <td>0.00632</td>\n",
       "      <td>18.0</td>\n",
       "      <td>2.31</td>\n",
       "      <td>0</td>\n",
       "      <td>0.538</td>\n",
       "      <td>6.575</td>\n",
       "      <td>65.2</td>\n",
       "      <td>4.0900</td>\n",
       "      <td>1</td>\n",
       "      <td>296</td>\n",
       "      <td>15.3</td>\n",
       "      <td>396.90</td>\n",
       "      <td>4.98</td>\n",
       "      <td>24.0</td>\n",
       "    </tr>\n",
       "    <tr>\n",
       "      <th>1</th>\n",
       "      <td>0.02731</td>\n",
       "      <td>0.0</td>\n",
       "      <td>7.07</td>\n",
       "      <td>0</td>\n",
       "      <td>0.469</td>\n",
       "      <td>6.421</td>\n",
       "      <td>78.9</td>\n",
       "      <td>4.9671</td>\n",
       "      <td>2</td>\n",
       "      <td>242</td>\n",
       "      <td>17.8</td>\n",
       "      <td>396.90</td>\n",
       "      <td>9.14</td>\n",
       "      <td>21.6</td>\n",
       "    </tr>\n",
       "    <tr>\n",
       "      <th>2</th>\n",
       "      <td>0.02729</td>\n",
       "      <td>0.0</td>\n",
       "      <td>7.07</td>\n",
       "      <td>0</td>\n",
       "      <td>0.469</td>\n",
       "      <td>7.185</td>\n",
       "      <td>61.1</td>\n",
       "      <td>4.9671</td>\n",
       "      <td>2</td>\n",
       "      <td>242</td>\n",
       "      <td>17.8</td>\n",
       "      <td>392.83</td>\n",
       "      <td>4.03</td>\n",
       "      <td>34.7</td>\n",
       "    </tr>\n",
       "    <tr>\n",
       "      <th>3</th>\n",
       "      <td>0.03237</td>\n",
       "      <td>0.0</td>\n",
       "      <td>2.18</td>\n",
       "      <td>0</td>\n",
       "      <td>0.458</td>\n",
       "      <td>6.998</td>\n",
       "      <td>45.8</td>\n",
       "      <td>6.0622</td>\n",
       "      <td>3</td>\n",
       "      <td>222</td>\n",
       "      <td>18.7</td>\n",
       "      <td>394.63</td>\n",
       "      <td>2.94</td>\n",
       "      <td>33.4</td>\n",
       "    </tr>\n",
       "    <tr>\n",
       "      <th>4</th>\n",
       "      <td>0.06905</td>\n",
       "      <td>0.0</td>\n",
       "      <td>2.18</td>\n",
       "      <td>0</td>\n",
       "      <td>0.458</td>\n",
       "      <td>7.147</td>\n",
       "      <td>54.2</td>\n",
       "      <td>6.0622</td>\n",
       "      <td>3</td>\n",
       "      <td>222</td>\n",
       "      <td>18.7</td>\n",
       "      <td>396.90</td>\n",
       "      <td>5.33</td>\n",
       "      <td>36.2</td>\n",
       "    </tr>\n",
       "  </tbody>\n",
       "</table>\n",
       "</div>"
      ],
      "text/plain": [
       "      crim    zn  indus  chas    nox     rm   age     dis  rad  tax  ptratio  \\\n",
       "0  0.00632  18.0   2.31     0  0.538  6.575  65.2  4.0900    1  296     15.3   \n",
       "1  0.02731   0.0   7.07     0  0.469  6.421  78.9  4.9671    2  242     17.8   \n",
       "2  0.02729   0.0   7.07     0  0.469  7.185  61.1  4.9671    2  242     17.8   \n",
       "3  0.03237   0.0   2.18     0  0.458  6.998  45.8  6.0622    3  222     18.7   \n",
       "4  0.06905   0.0   2.18     0  0.458  7.147  54.2  6.0622    3  222     18.7   \n",
       "\n",
       "    black  lstat  medv  \n",
       "0  396.90   4.98  24.0  \n",
       "1  396.90   9.14  21.6  \n",
       "2  392.83   4.03  34.7  \n",
       "3  394.63   2.94  33.4  \n",
       "4  396.90   5.33  36.2  "
      ]
     },
     "execution_count": 3,
     "metadata": {},
     "output_type": "execute_result"
    }
   ],
   "source": [
    "# read the above link to learn more about what each of the columns indicate \n",
    "boston.head()"
   ]
  },
  {
   "cell_type": "markdown",
   "metadata": {},
   "source": [
    "Simple linear regression builds a linear relationship between an input variable $X$ and an output variable $Y$. We can define this linear relationship as follows: \n",
    "\n",
    "$$Y = \\beta_0 + \\beta_1X$$\n",
    "\n",
    "#### Objective: find the linear relationship between the proportion of non-retail business acres per town (indus) and the full-value property-tax rate per 10,000 dollars (tax)\n",
    "\n",
    "So our equation will look like:\n",
    "\n",
    "$$TAX = \\beta_0 + \\beta_1INDUS$$\n",
    "\n",
    "Here, the coefficient $\\beta_0$ is the intercept, and $\\beta_1$ is the scale factor or slope. How do we determine the values of these coefficients? \n",
    "\n",
    "There are several different methods to do so, but we will focus on the Ordinary Least Squares (OLS) method. This method minimizes the sum of the squares of the differences between the observed dependent variable and those predicted by the linear function. \n",
    "\n",
    "Recall that a residual is the difference between any data point and the line of regression. When we develop a regression model, we want the sum of the residuals squared to be minimized, indicating that the model is a close fit to the data. \n",
    "\n",
    "$$RSS = \\sum_{i =1}^{n} (y_i - f(x_i))^2$$\n",
    "$$= \\sum_{i =1}^{n} (y_i - (\\beta_0 + \\beta_1x_i))^2$$\n",
    "\n",
    "This is the objective function we minimize to find $\\beta_0$ and $\\beta_1$. "
   ]
  },
  {
   "cell_type": "code",
   "execution_count": 7,
   "metadata": {},
   "outputs": [],
   "source": [
    "# set X to 'indus' and y to 'tax'\n",
    "X = boston['indus']\n",
    "y = boston['tax']"
   ]
  },
  {
   "cell_type": "markdown",
   "metadata": {},
   "source": [
    "First, visualize the data by plotting X and y using matplotlib. Be sure to include a title and axis labels. "
   ]
  },
  {
   "cell_type": "code",
   "execution_count": 8,
   "metadata": {},
   "outputs": [
    {
     "data": {
      "text/plain": [
       "Text(0, 0.5, 'Tax')"
      ]
     },
     "execution_count": 8,
     "metadata": {},
     "output_type": "execute_result"
    },
    {
     "data": {
      "image/png": "[encoded data removed]",
      "text/plain": [
       "<Figure size 432x288 with 1 Axes>"
      ]
     },
     "metadata": {
      "needs_background": "light"
     },
     "output_type": "display_data"
    }
   ],
   "source": [
    "# TODO: display plot \n",
    "plt.scatter(X, y)\n",
    "\n",
    "# TODO: labels and title\n",
    "plt.title('Scatter Plot - Indus vs Tax')\n",
    "plt.xlabel('Indus')\n",
    "plt.ylabel('Tax')"
   ]
  },
  {
   "cell_type": "markdown",
   "metadata": {},
   "source": [
    "TODO: What do you notice about the relationship between the variables? "
   ]
  },
  {
   "cell_type": "markdown",
   "metadata": {},
   "source": [
    "A: There seems to be a positive relationship between the x and y variables, as x increases y seems to increase as well."
   ]
  },
  {
   "cell_type": "markdown",
   "metadata": {},
   "source": [
    "Next, find the coefficients. The values for $\\beta_0$ and $\\beta_1$ are given by the following equations, where $n$ is the total number of values. This derivation was done in class. \n",
    "\n",
    "\n",
    "$$\\beta_1 = \\frac{\\sum_{i=1}^{n}(x_i - \\bar{x})(y_i - \\bar{y})}{\\sum_{i=1}^{n} (x_i - \\bar{x})^2}$$\n",
    "\n",
    "\n",
    "$$\\beta_0 = \\bar{y} - \\beta_1\\bar{x}$$"
   ]
  },
  {
   "cell_type": "code",
   "execution_count": 12,
   "metadata": {},
   "outputs": [],
   "source": [
    "# TODO: implement function \n",
    "def get_coeffs(X, y):\n",
    "    xbar = np.mean(X)\n",
    "    ybar = np.mean(y)\n",
    "    xysum = 0\n",
    "    xsqsum = 0\n",
    "    \n",
    "    for i in range (0, len(X)):\n",
    "        xysum += (X[i]-xbar)*(y[i]-ybar)\n",
    "        xsqsum += (X[i]-xbar)**2\n",
    "    \n",
    "    b1 = xysum/xsqsum\n",
    "    b0 = ybar - b1*xbar\n",
    "    \n",
    "    return b0, b1"
   ]
  },
  {
   "cell_type": "code",
   "execution_count": 13,
   "metadata": {},
   "outputs": [
    {
     "name": "stdout",
     "output_type": "stream",
     "text": [
      "Regression line: TAX = 211.0 + 18.0*INDUS\n"
     ]
    }
   ],
   "source": [
    "# run cell to call function and display the regression line\n",
    "# the values are rounded for display convenience \n",
    "b0, b1 = get_coeffs(X, y)\n",
    "print(\"Regression line: TAX = \" + str(round(b0)) + \" + \" + str(round(b1)) +\"*INDUS\")"
   ]
  },
  {
   "cell_type": "markdown",
   "metadata": {},
   "source": [
    "Plot the regression line overlayed on the real y-values. "
   ]
  },
  {
   "cell_type": "code",
   "execution_count": 19,
   "metadata": {},
   "outputs": [
    {
     "data": {
      "text/plain": [
       "<matplotlib.legend.Legend at 0x7ff2c3e0d520>"
      ]
     },
     "execution_count": 19,
     "metadata": {},
     "output_type": "execute_result"
    },
    {
     "data": {
      "image/png": "[encoded data removed]",
      "text/plain": [
       "<Figure size 432x288 with 1 Axes>"
      ]
     },
     "metadata": {
      "needs_background": "light"
     },
     "output_type": "display_data"
    }
   ],
   "source": [
    "# TODO: plot y-values \n",
    "plt.scatter(X,y)\n",
    "\n",
    "# TODO: plot regression line\n",
    "plt.plot(X, b0+b1*X, label='TAX = 211.0 + 18.0*INDUS')\n",
    "\n",
    "# TODO: labels and title\n",
    "plt.title('Indus vs Tax with Regression Line')\n",
    "plt.xlabel('Indus')\n",
    "plt.ylabel('Tax')\n",
    "plt.legend()"
   ]
  },
  {
   "cell_type": "markdown",
   "metadata": {},
   "source": [
    "The line appears to fit the data, but first, let us find the RSS to evaluate this model. The RSS is used to measure the amount of variance in the data set that is not explained by the regression model. Recall that\n",
    "$$RSS = \\sum_{i =1}^{n} (y_i - (\\beta_0 + \\beta_1x_i))^2$$"
   ]
  },
  {
   "cell_type": "code",
   "execution_count": 25,
   "metadata": {},
   "outputs": [],
   "source": [
    "# TODO: implement function\n",
    "def get_RSS(b0, b1, X, y):\n",
    "    RSS_sum = 0\n",
    "    for i in range(0, len(X)):\n",
    "        RSS_sum += (y[i] - (b0 + b1*X[i]))**2\n",
    "        \n",
    "    return RSS_sum"
   ]
  },
  {
   "cell_type": "code",
   "execution_count": 26,
   "metadata": {},
   "outputs": [
    {
     "name": "stdout",
     "output_type": "stream",
     "text": [
      "RSS: 6892554.224031512\n"
     ]
    }
   ],
   "source": [
    "# run this cell to print RSS\n",
    "print(\"RSS:\", get_RSS(b0, b1, X, y))"
   ]
  },
  {
   "cell_type": "markdown",
   "metadata": {},
   "source": [
    "We can also evaluate the model through the Root Mean Squared Error (RMSE) and the Coefficient of Determination ($R^2$ score). \n",
    "- The RMSE is similar to the RSS, but provides a value with more interpretable units -- in our case, tax rate per 10,000 dollars.  \n",
    "- The $R^2$ value represents the proportion of the variance for the dependent variable that is explained by the independent variable. \n",
    "\n",
    "Use the following equations to find the RMSE and $R^2$ score:\n",
    "\n",
    "$$ RMSE = \\sqrt(\\sum_{i=1}^{n} \\frac{1}{n} (\\hat{y_i} - y_i)^2 )$$\n",
    "\n",
    "$$ R^2 = 1 - \\frac{SS_r}{SS_t} $$ where\n",
    "\n",
    "$$SS_t = \\sum_{i = 1}^{n} (y_i - \\bar{y})^2$$\n",
    "\n",
    "and\n",
    "\n",
    "$$SS_r = \\sum_{i=1}^{n} (y_i - \\hat{y_i})^2$$\n",
    "\n"
   ]
  },
  {
   "cell_type": "code",
   "execution_count": 31,
   "metadata": {},
   "outputs": [],
   "source": [
    "# TODO: implement function\n",
    "def get_RMSE(b0, b1, X, y):\n",
    "    mse_sum = 0\n",
    "    for i in range(0, len(X)):\n",
    "        mse_sum += ((b0+b1*X[i]) - y[i])**2\n",
    "    \n",
    "    rmse = np.sqrt(mse_sum/len(X))\n",
    "    return(rmse)"
   ]
  },
  {
   "cell_type": "code",
   "execution_count": 33,
   "metadata": {},
   "outputs": [
    {
     "name": "stdout",
     "output_type": "stream",
     "text": [
      "RMSE:  116.7118188706435\n"
     ]
    }
   ],
   "source": [
    "# run cell to print RMSE\n",
    "print(\"RMSE: \", get_RMSE(b0, b1, X, y))"
   ]
  },
  {
   "cell_type": "code",
   "execution_count": 34,
   "metadata": {},
   "outputs": [],
   "source": [
    "# TODO: implement function\n",
    "def get_R2(b0, b1, X, y):\n",
    "    sst = 0 \n",
    "    ssr = 0\n",
    "    ybar = np.mean(y)\n",
    "    for i in range (0,len(X)):\n",
    "        sst += (y[i] - ybar)**2\n",
    "        ssr += (y[i] - (b0+b1*X[i]))**2\n",
    "    \n",
    "    return (1- ssr/sst)"
   ]
  },
  {
   "cell_type": "code",
   "execution_count": 35,
   "metadata": {},
   "outputs": [
    {
     "name": "stdout",
     "output_type": "stream",
     "text": [
      "R2:  0.5194952370037837\n"
     ]
    }
   ],
   "source": [
    "# run cell to print RMSE\n",
    "print(\"R2: \", get_R2(b0, b1, X, y))"
   ]
  },
  {
   "cell_type": "markdown",
   "metadata": {},
   "source": [
    "TODO: Analyze what the above $R^2$ score indicates about the model. "
   ]
  },
  {
   "cell_type": "markdown",
   "metadata": {},
   "source": [
    "A: The R^2 score indicates that about 52% of the variance we see in our y variable can be accurately explained by the regression model."
   ]
  },
  {
   "cell_type": "markdown",
   "metadata": {},
   "source": [
    "Now, we will compare the above results with the results from using scikit-learn, a machine learning library in Python. Read the documentation (https://scikit-learn.org/stable/modules/generated/sklearn.linear_model.LinearRegression.html) to learn how to use this library. Return the $R^2$ score and RMSE. "
   ]
  },
  {
   "cell_type": "code",
   "execution_count": 62,
   "metadata": {},
   "outputs": [],
   "source": [
    "# TODO: scikit learn function\n",
    "from sklearn.linear_model import LinearRegression\n",
    "from sklearn.metrics import mean_squared_error\n",
    "\n",
    "def linear_regression_SKL(X, y):\n",
    "    x_reg = X[:, None]\n",
    "    model = LinearRegression().fit(x_reg, y)\n",
    "    \n",
    "    r2 = model.score(x_reg, y)\n",
    "    rmse = np.sqrt(mean_squared_error(model.predict(x_reg), y))\n",
    "    \n",
    "    return r2, rmse"
   ]
  },
  {
   "cell_type": "code",
   "execution_count": 63,
   "metadata": {},
   "outputs": [
    {
     "data": {
      "text/plain": [
       "(0.5194952370037788, 116.71181887064395)"
      ]
     },
     "execution_count": 63,
     "metadata": {},
     "output_type": "execute_result"
    }
   ],
   "source": [
    "# run this cell to print results from SKL LR\n",
    "linear_regression_SKL(X, y)"
   ]
  },
  {
   "cell_type": "markdown",
   "metadata": {},
   "source": [
    "TODO: Analyze the results and compare the RMSE and $R^2$ to the previous method."
   ]
  },
  {
   "cell_type": "markdown",
   "metadata": {},
   "source": [
    "A: The results indicate that we have a decent model, with a RMSE of 116.7 and an R^2 of .519. This means we can say that about 52% of the variance in tax rate can be explained by the variation in proportion of non business retail acres per town. This model can likely be improved by adding more variables to our regression equation. The results obtained through scikit learn are identical to the ones achieved through the manually created functions. "
   ]
  }
 ],
 "metadata": {
  "kernelspec": {
   "display_name": "Python 3",
   "language": "python",
   "name": "python3"
  },
  "language_info": {
   "codemirror_mode": {
    "name": "ipython",
    "version": 3
   },
   "file_extension": ".py",
   "mimetype": "text/x-python",
   "name": "python",
   "nbconvert_exporter": "python",
   "pygments_lexer": "ipython3",
   "version": "3.8.3"
  }
 },
 "nbformat": 4,
 "nbformat_minor": 2
}
