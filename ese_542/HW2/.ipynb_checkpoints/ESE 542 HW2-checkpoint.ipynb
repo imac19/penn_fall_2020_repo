{
 "cells": [
  {
   "cell_type": "code",
   "execution_count": 1,
   "metadata": {},
   "outputs": [],
   "source": [
    "# Imports \n",
    "import pandas as pd \n",
    "import numpy as np "
   ]
  },
  {
   "cell_type": "code",
   "execution_count": 7,
   "metadata": {},
   "outputs": [],
   "source": [
    "# Read in data \n",
    "df = pd.read_csv('data_HW2.csv', names=['Values'])"
   ]
  },
  {
   "cell_type": "code",
   "execution_count": 26,
   "metadata": {},
   "outputs": [],
   "source": [
    "# Self-made mean/variance functions \n",
    "\n",
    "def compute_mean(df):\n",
    "    df_sum=0\n",
    "    df_rowcount=0\n",
    "    for i in df.index:\n",
    "        df_sum+=(df.iloc[i].Values)\n",
    "        df_rowcount+=1\n",
    "    \n",
    "    return(df_sum/df_rowcount)\n",
    "\n",
    "def compute_var(df, mean):\n",
    "    df_squaresum=0\n",
    "    df_rowcount=0\n",
    "    for i in df.index:\n",
    "        difference=(df.iloc[i].Values-mean)\n",
    "        square_dif=(difference*difference)\n",
    "        df_squaresum+=square_dif\n",
    "        df_rowcount+=1\n",
    "        \n",
    "    var = df_squaresum/df_rowcount\n",
    "    \n",
    "    return(var)\n",
    "        "
   ]
  },
  {
   "cell_type": "code",
   "execution_count": 28,
   "metadata": {},
   "outputs": [
    {
     "name": "stdout",
     "output_type": "stream",
     "text": [
      "Manually calculated mean: 4.234069250505728\n",
      "Numpy calculated mean: 4.234069250505728\n",
      "Manually calculated variance: 18.185303806520647\n",
      "Numpy calculated variance: 18.185303806520647\n",
      "\n",
      "Mean and variance match\n"
     ]
    }
   ],
   "source": [
    "# Checking manually made functions against numpy functions\n",
    "\n",
    "print('Manually calculated mean: ' + str(compute_mean(df)))\n",
    "print('Numpy calculated mean: ' + str(np.mean(df.Values)))\n",
    "print('Manually calculated variance: ' + str(compute_var(df, compute_mean(df))))\n",
    "print('Numpy calculated variance: ' + str(np.var(df.Values)))\n",
    "print()\n",
    "if((compute_mean(df) == np.mean(df.Values)) & (compute_var(df, compute_mean(df)) == np.var(df.Values))):\n",
    "    print('Mean and variance match')\n",
    "else:\n",
    "    print('Mean and variance do not match')\n"
   ]
  },
  {
   "cell_type": "code",
   "execution_count": 29,
   "metadata": {},
   "outputs": [
    {
     "name": "stdout",
     "output_type": "stream",
     "text": [
      "90% Confidence Interval: (4.208059516750843, 4.260078984260613)\n"
     ]
    }
   ],
   "source": [
    "# Calculating confidence interval for population mean \n",
    "\n",
    "lower_bound = np.mean(df.Values) - 1.645 * (.25/np.sqrt(len(df.Values)))\n",
    "upper_bound = np.mean(df.Values) + 1.645 * (.25/np.sqrt(len(df.Values)))\n",
    "\n",
    "print('90% Confidence Interval: ' + '(' + str(lower_bound) + ', ' + str(upper_bound) + ')')"
   ]
  }
 ],
 "metadata": {
  "kernelspec": {
   "display_name": "Python 3",
   "language": "python",
   "name": "python3"
  },
  "language_info": {
   "codemirror_mode": {
    "name": "ipython",
    "version": 3
   },
   "file_extension": ".py",
   "mimetype": "text/x-python",
   "name": "python",
   "nbconvert_exporter": "python",
   "pygments_lexer": "ipython3",
   "version": "3.8.3"
  }
 },
 "nbformat": 4,
 "nbformat_minor": 4
}
